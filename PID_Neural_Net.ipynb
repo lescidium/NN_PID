{
 "cells": [
  {
   "cell_type": "code",
   "execution_count": 1,
   "metadata": {},
   "outputs": [],
   "source": [
    "#Main ML packages\n",
    "import tensorflow as tf\n",
    "from tensorflow.keras.layers.experimental import preprocessing\n",
    "from tensorflow import keras\n",
    "from tensorflow.keras import layers\n",
    "\n",
    "#Other Staples\n",
    "import numpy as np\n",
    "import matplotlib.pyplot as plt\n",
    "import pandas as pd\n",
    "\n",
    "#Local\n",
    "import seaborn as sns\n",
    "import periodictable as pt\n",
    "import miyeon\n",
    "\n",
    "# from importlib import reload"
   ]
  },
  {
   "cell_type": "code",
   "execution_count": 2,
   "metadata": {},
   "outputs": [],
   "source": [
    "ele = [e for e in pt.elements]"
   ]
  },
  {
   "cell_type": "code",
   "execution_count": 91,
   "metadata": {},
   "outputs": [],
   "source": [
    "def format(data):\n",
    "    labels = ['02-Brho [T*m]','02-TKE [MeV]']\n",
    "    temp = data[data.columns[:10]].copy()\n",
    "    temp['length'] = data['01-Length from Target [m]']-data['02-Length from Target [m]']\n",
    "    temp['tof'] = data['01-Time from Target [ns]']-data['02-Time from Target [ns]']\n",
    "    temp = temp.drop(columns=['01-Brho [T*m]', '01-TKE [MeV]', '01-Length from Target [m]','01-Time from Target [ns]'])\n",
    "    for l in labels:\n",
    "        temp[l] = data[l]\n",
    "    return temp"
   ]
  },
  {
   "cell_type": "code",
   "execution_count": 97,
   "metadata": {
    "scrolled": true
   },
   "outputs": [],
   "source": [
    "data1 = pd.read_csv('186hf.csv',index_col=0)\n",
    "data2 = pd.read_csv('189hf.csv',index_col=0)\n",
    "data3 = pd.read_csv('192hf.csv',index_col=0)\n",
    "\n",
    "data1 = format(data1)\n",
    "data2 = format(data2)\n",
    "data3 = format(data3)\n",
    "\n",
    "LABELS = ['01-A (mass number)','01-Z (atomic number)','01-q (ion charge)',\n",
    "          '01-TKE [MeV]','01-Time from Target [ns]','01-Brho [T*m]',\n",
    "          '02-Energy Loss (MeV)','03-Energy Loss (MeV)','04-Energy Loss (MeV)']\n",
    "\n",
    "train_data = data2.sample(frac=0.8,random_state=0)"
   ]
  },
  {
   "cell_type": "code",
   "execution_count": 93,
   "metadata": {},
   "outputs": [
    {
     "name": "stdout",
     "output_type": "stream",
     "text": [
      "Brho for each setting: 186hf, 189hf, 192hf\n"
     ]
    },
    {
     "data": {
      "text/plain": [
       "(3.48254165, 3.482779130666667, 3.4829795233333334)"
      ]
     },
     "execution_count": 93,
     "metadata": {},
     "output_type": "execute_result"
    }
   ],
   "source": [
    "print(\"Brho for each setting: 186hf, 189hf, 192hf\")\n",
    "data1.describe().loc['mean','02-Brho [T*m]'],data2.describe().loc['mean','02-Brho [T*m]'],data3.describe().loc['mean','02-Brho [T*m]']"
   ]
  },
  {
   "cell_type": "code",
   "execution_count": null,
   "metadata": {
    "scrolled": true
   },
   "outputs": [],
   "source": [
    "data['N'] = data['01-A (mass number)']-data['01-Z (atomic number)']\n",
    "sns.pairplot(data[['N','01-Z (atomic number)','01-q (ion charge)']])"
   ]
  },
  {
   "cell_type": "code",
   "execution_count": null,
   "metadata": {},
   "outputs": [],
   "source": [
    "sns.pairplot(data[['02-TKE [MeV]','tof',\n",
    "                   '02-Brho [T*m]','01-Energy Loss (MeV)']])"
   ]
  },
  {
   "cell_type": "code",
   "execution_count": 98,
   "metadata": {},
   "outputs": [
    {
     "name": "stdout",
     "output_type": "stream",
     "text": [
      "TRAINING DATA (1200, 7) (1200, 3)\n"
     ]
    },
    {
     "data": {
      "text/html": [
       "<div>\n",
       "<style scoped>\n",
       "    .dataframe tbody tr th:only-of-type {\n",
       "        vertical-align: middle;\n",
       "    }\n",
       "\n",
       "    .dataframe tbody tr th {\n",
       "        vertical-align: top;\n",
       "    }\n",
       "\n",
       "    .dataframe thead th {\n",
       "        text-align: right;\n",
       "    }\n",
       "</style>\n",
       "<table border=\"1\" class=\"dataframe\">\n",
       "  <thead>\n",
       "    <tr style=\"text-align: right;\">\n",
       "      <th></th>\n",
       "      <th>01-A (mass number)</th>\n",
       "      <th>01-Z (atomic number)</th>\n",
       "      <th>01-q (ion charge)</th>\n",
       "    </tr>\n",
       "    <tr>\n",
       "      <th>N</th>\n",
       "      <th></th>\n",
       "      <th></th>\n",
       "      <th></th>\n",
       "    </tr>\n",
       "  </thead>\n",
       "  <tbody>\n",
       "    <tr>\n",
       "      <th>472</th>\n",
       "      <td>195.0</td>\n",
       "      <td>74.0</td>\n",
       "      <td>72.0</td>\n",
       "    </tr>\n",
       "    <tr>\n",
       "      <th>10</th>\n",
       "      <td>194.0</td>\n",
       "      <td>74.0</td>\n",
       "      <td>72.0</td>\n",
       "    </tr>\n",
       "    <tr>\n",
       "      <th>1500</th>\n",
       "      <td>191.0</td>\n",
       "      <td>72.0</td>\n",
       "      <td>71.0</td>\n",
       "    </tr>\n",
       "    <tr>\n",
       "      <th>55</th>\n",
       "      <td>195.0</td>\n",
       "      <td>74.0</td>\n",
       "      <td>72.0</td>\n",
       "    </tr>\n",
       "  </tbody>\n",
       "</table>\n",
       "</div>"
      ],
      "text/plain": [
       "      01-A (mass number)  01-Z (atomic number)  01-q (ion charge)\n",
       "N                                                                \n",
       "472                195.0                  74.0               72.0\n",
       "10                 194.0                  74.0               72.0\n",
       "1500               191.0                  72.0               71.0\n",
       "55                 195.0                  74.0               72.0"
      ]
     },
     "execution_count": 98,
     "metadata": {},
     "output_type": "execute_result"
    }
   ],
   "source": [
    "train_labels = train_data[['01-A (mass number)','01-Z (atomic number)','01-q (ion charge)']]\n",
    "for l in ['01-A (mass number)','01-Z (atomic number)','01-q (ion charge)']:\n",
    "    train_data.pop(l)\n",
    "print(\"TRAINING DATA\", train_data.shape, train_labels.shape)\n",
    "train_labels[:4]"
   ]
  },
  {
   "cell_type": "code",
   "execution_count": 108,
   "metadata": {},
   "outputs": [
    {
     "data": {
      "text/html": [
       "<div>\n",
       "<style scoped>\n",
       "    .dataframe tbody tr th:only-of-type {\n",
       "        vertical-align: middle;\n",
       "    }\n",
       "\n",
       "    .dataframe tbody tr th {\n",
       "        vertical-align: top;\n",
       "    }\n",
       "\n",
       "    .dataframe thead th {\n",
       "        text-align: right;\n",
       "    }\n",
       "</style>\n",
       "<table border=\"1\" class=\"dataframe\">\n",
       "  <thead>\n",
       "    <tr style=\"text-align: right;\">\n",
       "      <th></th>\n",
       "      <th>01-X [mm]</th>\n",
       "      <th>01-dP/P [%]</th>\n",
       "      <th>01-Energy Loss (MeV)</th>\n",
       "      <th>length</th>\n",
       "      <th>tof</th>\n",
       "      <th>02-Brho [T*m]</th>\n",
       "      <th>02-TKE [MeV]</th>\n",
       "      <th>vel</th>\n",
       "      <th>beta</th>\n",
       "      <th>gamma</th>\n",
       "      <th>AoQ</th>\n",
       "      <th>q</th>\n",
       "      <th>A</th>\n",
       "      <th>Z-prime</th>\n",
       "      <th>Z</th>\n",
       "    </tr>\n",
       "    <tr>\n",
       "      <th>N</th>\n",
       "      <th></th>\n",
       "      <th></th>\n",
       "      <th></th>\n",
       "      <th></th>\n",
       "      <th></th>\n",
       "      <th></th>\n",
       "      <th></th>\n",
       "      <th></th>\n",
       "      <th></th>\n",
       "      <th></th>\n",
       "      <th></th>\n",
       "      <th></th>\n",
       "      <th></th>\n",
       "      <th></th>\n",
       "      <th></th>\n",
       "    </tr>\n",
       "  </thead>\n",
       "  <tbody>\n",
       "    <tr>\n",
       "      <th>472</th>\n",
       "      <td>-1.424239</td>\n",
       "      <td>0.098728</td>\n",
       "      <td>6527.264</td>\n",
       "      <td>46.04317</td>\n",
       "      <td>401.4257</td>\n",
       "      <td>3.486256</td>\n",
       "      <td>14970.78</td>\n",
       "      <td>1.146991e+08</td>\n",
       "      <td>0.382330</td>\n",
       "      <td>1.082221</td>\n",
       "      <td>2.711748</td>\n",
       "      <td>72.082924</td>\n",
       "      <td>195.470716</td>\n",
       "      <td>11.739816</td>\n",
       "      <td>1990.721733</td>\n",
       "    </tr>\n",
       "    <tr>\n",
       "      <th>10</th>\n",
       "      <td>-2.203967</td>\n",
       "      <td>-0.104424</td>\n",
       "      <td>6532.291</td>\n",
       "      <td>46.05294</td>\n",
       "      <td>400.2155</td>\n",
       "      <td>3.481439</td>\n",
       "      <td>14969.48</td>\n",
       "      <td>1.150704e+08</td>\n",
       "      <td>0.383568</td>\n",
       "      <td>1.082822</td>\n",
       "      <td>2.697766</td>\n",
       "      <td>71.924350</td>\n",
       "      <td>194.035043</td>\n",
       "      <td>11.775909</td>\n",
       "      <td>1997.915323</td>\n",
       "    </tr>\n",
       "    <tr>\n",
       "      <th>1500</th>\n",
       "      <td>-8.648018</td>\n",
       "      <td>-0.575895</td>\n",
       "      <td>6245.334</td>\n",
       "      <td>46.01763</td>\n",
       "      <td>399.2597</td>\n",
       "      <td>3.477410</td>\n",
       "      <td>14776.18</td>\n",
       "      <td>1.152574e+08</td>\n",
       "      <td>0.384191</td>\n",
       "      <td>1.083126</td>\n",
       "      <td>2.689516</td>\n",
       "      <td>70.952950</td>\n",
       "      <td>190.829088</td>\n",
       "      <td>11.529899</td>\n",
       "      <td>1956.705211</td>\n",
       "    </tr>\n",
       "    <tr>\n",
       "      <th>55</th>\n",
       "      <td>12.399710</td>\n",
       "      <td>0.331148</td>\n",
       "      <td>6536.744</td>\n",
       "      <td>46.06014</td>\n",
       "      <td>400.9870</td>\n",
       "      <td>3.489059</td>\n",
       "      <td>14975.03</td>\n",
       "      <td>1.148669e+08</td>\n",
       "      <td>0.382890</td>\n",
       "      <td>1.082492</td>\n",
       "      <td>2.709284</td>\n",
       "      <td>71.931551</td>\n",
       "      <td>194.883004</td>\n",
       "      <td>11.762617</td>\n",
       "      <td>1995.073005</td>\n",
       "    </tr>\n",
       "  </tbody>\n",
       "</table>\n",
       "</div>"
      ],
      "text/plain": [
       "      01-X [mm]  01-dP/P [%]  01-Energy Loss (MeV)    length       tof  \\\n",
       "N                                                                        \n",
       "472   -1.424239     0.098728              6527.264  46.04317  401.4257   \n",
       "10    -2.203967    -0.104424              6532.291  46.05294  400.2155   \n",
       "1500  -8.648018    -0.575895              6245.334  46.01763  399.2597   \n",
       "55    12.399710     0.331148              6536.744  46.06014  400.9870   \n",
       "\n",
       "      02-Brho [T*m]  02-TKE [MeV]           vel      beta     gamma       AoQ  \\\n",
       "N                                                                               \n",
       "472        3.486256      14970.78  1.146991e+08  0.382330  1.082221  2.711748   \n",
       "10         3.481439      14969.48  1.150704e+08  0.383568  1.082822  2.697766   \n",
       "1500       3.477410      14776.18  1.152574e+08  0.384191  1.083126  2.689516   \n",
       "55         3.489059      14975.03  1.148669e+08  0.382890  1.082492  2.709284   \n",
       "\n",
       "              q           A    Z-prime            Z  \n",
       "N                                                    \n",
       "472   72.082924  195.470716  11.739816  1990.721733  \n",
       "10    71.924350  194.035043  11.775909  1997.915323  \n",
       "1500  70.952950  190.829088  11.529899  1956.705211  \n",
       "55    71.931551  194.883004  11.762617  1995.073005  "
      ]
     },
     "execution_count": 108,
     "metadata": {},
     "output_type": "execute_result"
    }
   ],
   "source": [
    "kee2 = 2.07e-14 #eV^2*cm^2\n",
    "mec2 = 5.11e+08 #eV\n",
    "ne   = 6.97e+23 #elec/cm^3\n",
    "dx   = 7.80e-02 #cm\n",
    "pi4  = 12.56637 #4pi\n",
    "\n",
    "train_data['vel'] = train_data['length']/train_data['tof']/1e-9\n",
    "train_data['beta'] = train_data['vel']/3e8\n",
    "train_data['gamma'] = np.sqrt(1/(1-train_data['beta']*train_data['beta']))\n",
    "train_data['AoQ'] = train_data['02-Brho [T*m]'] / (3.1071*train_data['beta']*train_data['gamma'])\n",
    "\n",
    "train_data['q'] = train_data['02-TKE [MeV]']/(train_data['gamma']-1)/(931.494013*train_data['AoQ'])\n",
    "train_data['A'] = train_data['AoQ']*train_data['q']\n",
    "train_data['Z-prime'] = np.sqrt(train_data['01-Energy Loss (MeV)']/np.log(5930/(1/train_data['beta']**2 - 1))*train_data['beta']**2)\n",
    "train_data['Z'] = np.sqrt(train_data['01-Energy Loss (MeV)']*1e6/(dx*pi4/mec2*ne*kee2)/(np.log(5930/(1-train_data['beta']**2))/train_data['beta']**2-1))\n",
    "\n",
    "train_data[:4]"
   ]
  },
  {
   "cell_type": "code",
   "execution_count": 73,
   "metadata": {},
   "outputs": [
    {
     "name": "stdout",
     "output_type": "stream",
     "text": [
      "Model: \"sequential_5\"\n",
      "_________________________________________________________________\n",
      " Layer (type)                Output Shape              Param #   \n",
      "=================================================================\n",
      " normalization_5 (Normaliza  (None, 14)                29        \n",
      " tion)                                                           \n",
      "                                                                 \n",
      " dense_15 (Dense)            (None, 64)                960       \n",
      "                                                                 \n",
      " dense_16 (Dense)            (None, 64)                4160      \n",
      "                                                                 \n",
      " dense_17 (Dense)            (None, 3)                 195       \n",
      "                                                                 \n",
      "=================================================================\n",
      "Total params: 5344 (20.88 KB)\n",
      "Trainable params: 5315 (20.76 KB)\n",
      "Non-trainable params: 29 (120.00 Byte)\n",
      "_________________________________________________________________\n"
     ]
    }
   ],
   "source": [
    "normalizer = preprocessing.Normalization(axis=-1)\n",
    "normalizer.adapt(np.array(train_data))\n",
    "\n",
    "def double_64(norm):\n",
    "    \"\"\"Takes a normalization layer and produces a NN with two hidden layers of 64 nodes each.\"\"\"\n",
    "    \n",
    "    model = keras.Sequential([\n",
    "        norm,\n",
    "        layers.Dense(64,activation='relu'),\n",
    "        layers.Dense(64,activation='relu'),\n",
    "        layers.Dense(3)\n",
    "    ])\n",
    "        \n",
    "    model.compile(loss='mean_absolute_error',\n",
    "                 optimizer=keras.optimizers.Adam(0.001))\n",
    "    return model\n",
    "\n",
    "deep_net = double_64(normalizer)\n",
    "deep_net.summary()"
   ]
  },
  {
   "cell_type": "code",
   "execution_count": 74,
   "metadata": {},
   "outputs": [
    {
     "data": {
      "text/plain": [
       "(0.0, 10.0)"
      ]
     },
     "execution_count": 74,
     "metadata": {},
     "output_type": "execute_result"
    },
    {
     "data": {
      "image/png": "[encoded data removed]",
      "text/plain": [
       "<Figure size 640x480 with 1 Axes>"
      ]
     },
     "metadata": {},
     "output_type": "display_data"
    }
   ],
   "source": [
    "history = deep_net.fit(train_data,train_labels,\n",
    "                      validation_split=0.2,verbose=0,epochs=1000)\n",
    "\n",
    "histy = pd.DataFrame(history.history)\n",
    "plt.plot(histy['loss'],label='loss')\n",
    "plt.plot(histy['val_loss'],label='val_loss')\n",
    "plt.legend()\n",
    "plt.ylim(0,10)"
   ]
  },
  {
   "cell_type": "code",
   "execution_count": 84,
   "metadata": {},
   "outputs": [
    {
     "name": "stdout",
     "output_type": "stream",
     "text": [
      "(300, 7) (300, 3)\n"
     ]
    },
    {
     "data": {
      "text/html": [
       "<div>\n",
       "<style scoped>\n",
       "    .dataframe tbody tr th:only-of-type {\n",
       "        vertical-align: middle;\n",
       "    }\n",
       "\n",
       "    .dataframe tbody tr th {\n",
       "        vertical-align: top;\n",
       "    }\n",
       "\n",
       "    .dataframe thead th {\n",
       "        text-align: right;\n",
       "    }\n",
       "</style>\n",
       "<table border=\"1\" class=\"dataframe\">\n",
       "  <thead>\n",
       "    <tr style=\"text-align: right;\">\n",
       "      <th></th>\n",
       "      <th>01-X [mm]</th>\n",
       "      <th>01-dP/P [%]</th>\n",
       "      <th>01-Energy Loss (MeV)</th>\n",
       "      <th>length</th>\n",
       "      <th>tof</th>\n",
       "      <th>02-Brho [T*m]</th>\n",
       "      <th>02-TKE [MeV]</th>\n",
       "      <th>vel</th>\n",
       "      <th>beta</th>\n",
       "      <th>gamma</th>\n",
       "      <th>AoQ</th>\n",
       "      <th>q</th>\n",
       "      <th>A</th>\n",
       "      <th>Z-prime</th>\n",
       "    </tr>\n",
       "    <tr>\n",
       "      <th>N</th>\n",
       "      <th></th>\n",
       "      <th></th>\n",
       "      <th></th>\n",
       "      <th></th>\n",
       "      <th></th>\n",
       "      <th></th>\n",
       "      <th></th>\n",
       "      <th></th>\n",
       "      <th></th>\n",
       "      <th></th>\n",
       "      <th></th>\n",
       "      <th></th>\n",
       "      <th></th>\n",
       "      <th></th>\n",
       "    </tr>\n",
       "  </thead>\n",
       "  <tbody>\n",
       "    <tr>\n",
       "      <th>1</th>\n",
       "      <td>16.925180</td>\n",
       "      <td>0.522942</td>\n",
       "      <td>6214.135</td>\n",
       "      <td>46.04013</td>\n",
       "      <td>399.2964</td>\n",
       "      <td>3.492964</td>\n",
       "      <td>14591.97</td>\n",
       "      <td>1.153031e+08</td>\n",
       "      <td>0.384344</td>\n",
       "      <td>1.083201</td>\n",
       "      <td>2.700288</td>\n",
       "      <td>69.726407</td>\n",
       "      <td>188.281384</td>\n",
       "      <td>11.504857</td>\n",
       "    </tr>\n",
       "    <tr>\n",
       "      <th>2</th>\n",
       "      <td>7.669316</td>\n",
       "      <td>0.500030</td>\n",
       "      <td>6421.781</td>\n",
       "      <td>46.06817</td>\n",
       "      <td>397.4445</td>\n",
       "      <td>3.488030</td>\n",
       "      <td>15092.04</td>\n",
       "      <td>1.159110e+08</td>\n",
       "      <td>0.386370</td>\n",
       "      <td>1.084194</td>\n",
       "      <td>2.679876</td>\n",
       "      <td>71.807661</td>\n",
       "      <td>192.435611</td>\n",
       "      <td>11.746694</td>\n",
       "    </tr>\n",
       "    <tr>\n",
       "      <th>3</th>\n",
       "      <td>-18.371670</td>\n",
       "      <td>-0.695264</td>\n",
       "      <td>6499.333</td>\n",
       "      <td>46.06908</td>\n",
       "      <td>399.5629</td>\n",
       "      <td>3.472247</td>\n",
       "      <td>14976.02</td>\n",
       "      <td>1.152987e+08</td>\n",
       "      <td>0.384329</td>\n",
       "      <td>1.083193</td>\n",
       "      <td>2.684394</td>\n",
       "      <td>71.991534</td>\n",
       "      <td>193.253645</td>\n",
       "      <td>11.765526</td>\n",
       "    </tr>\n",
       "    <tr>\n",
       "      <th>4</th>\n",
       "      <td>8.287378</td>\n",
       "      <td>0.021447</td>\n",
       "      <td>6364.301</td>\n",
       "      <td>46.05051</td>\n",
       "      <td>399.1473</td>\n",
       "      <td>3.486575</td>\n",
       "      <td>14807.89</td>\n",
       "      <td>1.153722e+08</td>\n",
       "      <td>0.384574</td>\n",
       "      <td>1.083313</td>\n",
       "      <td>2.693455</td>\n",
       "      <td>70.841848</td>\n",
       "      <td>190.809354</td>\n",
       "      <td>11.648831</td>\n",
       "    </tr>\n",
       "  </tbody>\n",
       "</table>\n",
       "</div>"
      ],
      "text/plain": [
       "    01-X [mm]  01-dP/P [%]  01-Energy Loss (MeV)    length       tof  \\\n",
       "N                                                                      \n",
       "1   16.925180     0.522942              6214.135  46.04013  399.2964   \n",
       "2    7.669316     0.500030              6421.781  46.06817  397.4445   \n",
       "3  -18.371670    -0.695264              6499.333  46.06908  399.5629   \n",
       "4    8.287378     0.021447              6364.301  46.05051  399.1473   \n",
       "\n",
       "    02-Brho [T*m]  02-TKE [MeV]           vel      beta     gamma       AoQ  \\\n",
       "N                                                                             \n",
       "1        3.492964      14591.97  1.153031e+08  0.384344  1.083201  2.700288   \n",
       "2        3.488030      15092.04  1.159110e+08  0.386370  1.084194  2.679876   \n",
       "3        3.472247      14976.02  1.152987e+08  0.384329  1.083193  2.684394   \n",
       "4        3.486575      14807.89  1.153722e+08  0.384574  1.083313  2.693455   \n",
       "\n",
       "            q           A    Z-prime  \n",
       "N                                     \n",
       "1   69.726407  188.281384  11.504857  \n",
       "2   71.807661  192.435611  11.746694  \n",
       "3   71.991534  193.253645  11.765526  \n",
       "4   70.841848  190.809354  11.648831  "
      ]
     },
     "execution_count": 84,
     "metadata": {},
     "output_type": "execute_result"
    }
   ],
   "source": [
    "SET=3\n",
    "\n",
    "if SET == 1:\n",
    "    test_data = data1.copy()\n",
    "elif SET == 2:\n",
    "    data = data2.copy()\n",
    "    test_data = data.drop(train_data.index)\n",
    "elif SET == 3:\n",
    "    test_data = data3.copy()\n",
    "else:\n",
    "    raise Exception('Must define which dataset to use. (Num 1 to 3)')\n",
    "\n",
    "test_labels = test_data[['01-A (mass number)','01-Z (atomic number)','01-q (ion charge)']]\n",
    "for l in ['01-A (mass number)','01-Z (atomic number)','01-q (ion charge)']:\n",
    "    test_data.pop(l)\n",
    "print(test_data.shape, test_labels.shape)\n",
    "\n",
    "test_data['vel'] = test_data['length']/test_data['tof']/1e-9\n",
    "test_data['beta'] = test_data['vel']/3e8\n",
    "test_data['gamma'] = np.sqrt(1/(1-test_data['beta']*test_data['beta']))\n",
    "test_data['AoQ'] = test_data['02-Brho [T*m]'] / (3.1071*test_data['beta']*test_data['gamma'])\n",
    "\n",
    "test_data['q'] = test_data['02-TKE [MeV]']/(test_data['gamma']-1)/(931.494013*test_data['AoQ'])\n",
    "test_data['A'] = test_data['AoQ']*test_data['q']\n",
    "test_data['Z-prime'] = np.sqrt(test_data['01-Energy Loss (MeV)']/np.log(5930/(1/test_data['beta']**2 - 1))*test_data['beta']**2)\n",
    "\n",
    "test_data[:4]"
   ]
  },
  {
   "cell_type": "code",
   "execution_count": 85,
   "metadata": {},
   "outputs": [
    {
     "data": {
      "text/html": [
       "<div>\n",
       "<style scoped>\n",
       "    .dataframe tbody tr th:only-of-type {\n",
       "        vertical-align: middle;\n",
       "    }\n",
       "\n",
       "    .dataframe tbody tr th {\n",
       "        vertical-align: top;\n",
       "    }\n",
       "\n",
       "    .dataframe thead th {\n",
       "        text-align: right;\n",
       "    }\n",
       "</style>\n",
       "<table border=\"1\" class=\"dataframe\">\n",
       "  <thead>\n",
       "    <tr style=\"text-align: right;\">\n",
       "      <th></th>\n",
       "      <th>01-A (mass number)</th>\n",
       "      <th>01-Z (atomic number)</th>\n",
       "      <th>01-q (ion charge)</th>\n",
       "    </tr>\n",
       "    <tr>\n",
       "      <th>N</th>\n",
       "      <th></th>\n",
       "      <th></th>\n",
       "      <th></th>\n",
       "    </tr>\n",
       "  </thead>\n",
       "  <tbody>\n",
       "    <tr>\n",
       "      <th>1</th>\n",
       "      <td>189.0</td>\n",
       "      <td>72.0</td>\n",
       "      <td>70.0</td>\n",
       "    </tr>\n",
       "    <tr>\n",
       "      <th>2</th>\n",
       "      <td>193.0</td>\n",
       "      <td>74.0</td>\n",
       "      <td>72.0</td>\n",
       "    </tr>\n",
       "    <tr>\n",
       "      <th>3</th>\n",
       "      <td>193.0</td>\n",
       "      <td>74.0</td>\n",
       "      <td>72.0</td>\n",
       "    </tr>\n",
       "    <tr>\n",
       "      <th>4</th>\n",
       "      <td>191.0</td>\n",
       "      <td>73.0</td>\n",
       "      <td>71.0</td>\n",
       "    </tr>\n",
       "  </tbody>\n",
       "</table>\n",
       "</div>"
      ],
      "text/plain": [
       "    01-A (mass number)  01-Z (atomic number)  01-q (ion charge)\n",
       "N                                                              \n",
       "1                189.0                  72.0               70.0\n",
       "2                193.0                  74.0               72.0\n",
       "3                193.0                  74.0               72.0\n",
       "4                191.0                  73.0               71.0"
      ]
     },
     "execution_count": 85,
     "metadata": {},
     "output_type": "execute_result"
    }
   ],
   "source": [
    "test_labels[:4]"
   ]
  },
  {
   "cell_type": "code",
   "execution_count": 86,
   "metadata": {},
   "outputs": [
    {
     "name": "stdout",
     "output_type": "stream",
     "text": [
      "1/1 [==============================] - 0s 31ms/step\n"
     ]
    },
    {
     "data": {
      "text/plain": [
       "array([[188.90376 ,  71.92232 ,  69.96555 ],\n",
       "       [192.13148 ,  73.58547 ,  71.7086  ],\n",
       "       [192.77829 ,  73.80863 ,  71.91576 ],\n",
       "       [190.90808 ,  72.75838 ,  70.905556]], dtype=float32)"
      ]
     },
     "execution_count": 86,
     "metadata": {},
     "output_type": "execute_result"
    }
   ],
   "source": [
    "deep_net.predict(test_data[:4])"
   ]
  },
  {
   "cell_type": "code",
   "execution_count": 87,
   "metadata": {},
   "outputs": [
    {
     "name": "stdout",
     "output_type": "stream",
     "text": [
      "10/10 [==============================] - 0s 2ms/step - loss: 0.1798\n",
      "Mean Absolute Error: 0.17977407574653625\n"
     ]
    }
   ],
   "source": [
    "result = deep_net.evaluate(test_data,test_labels,verbose=1)\n",
    "print(f\"Mean Absolute Error: {result}\")"
   ]
  },
  {
   "cell_type": "code",
   "execution_count": null,
   "metadata": {},
   "outputs": [],
   "source": [
    "plt.title('Original A (Red) vs New A (Blue)')\n",
    "plt.xlabel('Cycles')\n",
    "plt.ylabel('Accuracy')\n",
    "plt.plot(hist1.history['accuracy'],'r',hist4.history['accuracy'])"
   ]
  },
  {
   "cell_type": "code",
   "execution_count": null,
   "metadata": {},
   "outputs": [],
   "source": [
    "# loss1, acc1 = model1.evaluate(test_in,test_out[:,0],verbose=2)\n",
    "# plt.title('Accuracy')\n",
    "# plt.xlabel('Epochs')\n",
    "# plt.ylabel('Percent')\n",
    "# plt.plot(hist1.history['accuracy'])\n",
    "\n",
    "loss1, acc1 = model1.evaluate(test_in,test_out[:,0],verbose=2)\n",
    "loss2, acc2 = model2.evaluate(test_in,test_out[:,1],verbose=2)\n",
    "loss3, acc3 = model3.evaluate(test_in,test_out[:,2],verbose=2)\n",
    "\n",
    "plt.figure(figsize=(12,3))\n",
    "\n",
    "plt.subplot(1,3,1)\n",
    "plt.title('A vs Z')\n",
    "plt.xlabel('Cycles')\n",
    "plt.ylabel('Accuracy')\n",
    "plt.plot(hist1.history['accuracy'],'r',hist2.history['accuracy'],'b')\n",
    "plt.subplot(1,3,3)\n",
    "plt.title('Long Run A')\n",
    "plt.xlabel('Cycles')\n",
    "plt.ylabel('Percent')\n",
    "plt.plot(hist4.history['accuracy'],'r')\n",
    "plt.subplot(1,3,2)\n",
    "plt.title('A vs Q')\n",
    "plt.xlabel('Cycles')\n",
    "plt.ylabel('Accuracy')\n",
    "plt.plot(hist1.history['accuracy'],'r',hist3.history['accuracy'],'g')"
   ]
  },
  {
   "cell_type": "code",
   "execution_count": null,
   "metadata": {},
   "outputs": [],
   "source": [
    "prob = tf.keras.Sequential([model,tf.keras.layers.Softmax()])\n",
    "predictions = prob.predict(train_in)\n",
    "predictions.shape"
   ]
  },
  {
   "cell_type": "code",
   "execution_count": null,
   "metadata": {},
   "outputs": [],
   "source": [
    "listy=[]\n",
    "for p in predictions:\n",
    "    listy.append(np.argmax(p))\n",
    "    \n",
    "Z_out = np.array(listy)[...,None]\n",
    "trained_Z = np.append(train_in,Z_out/max(Z_out)[0],1)"
   ]
  },
  {
   "cell_type": "code",
   "execution_count": null,
   "metadata": {},
   "outputs": [],
   "source": [
    "trained_Z"
   ]
  },
  {
   "cell_type": "code",
   "execution_count": null,
   "metadata": {},
   "outputs": [],
   "source": [
    "model1=[]\n",
    "model1 = tf.keras.Sequential([\n",
    "    tf.keras.layers.Dense(64, activation='relu'),\n",
    "    tf.keras.layers.Dense(64, activation='relu'),\n",
    "    tf.keras.layers.Dense(118)\n",
    "])\n",
    "\n",
    "model1.compile(optimizer=myopt,loss=myloss,metrics=['accuracy'])"
   ]
  },
  {
   "cell_type": "code",
   "execution_count": null,
   "metadata": {},
   "outputs": [],
   "source": [
    "model1.fit(trained_Z,train_out[:,2],epochs=500)"
   ]
  },
  {
   "cell_type": "code",
   "execution_count": null,
   "metadata": {},
   "outputs": [],
   "source": [
    "prob1 = tf.keras.Sequential([model1,tf.keras.layers.Softmax()])\n",
    "predictions1 = prob1.predict(trained_Z)\n",
    "\n",
    "listy=[]\n",
    "for p in predictions1:\n",
    "    listy.append(np.argmax(p))\n",
    "    \n",
    "Q_out = np.array(listy)[...,None]\n",
    "trained_ZQ = np.append(trained_Z,Q_out/max(Q_out)[0],1)\n"
   ]
  },
  {
   "cell_type": "code",
   "execution_count": null,
   "metadata": {},
   "outputs": [],
   "source": [
    "trained_ZQ[55],Z_out[55],Q_out[55],train_out[55]"
   ]
  },
  {
   "cell_type": "code",
   "execution_count": null,
   "metadata": {},
   "outputs": [],
   "source": [
    "def plot_dat(i,prediction,actuals,Ptable):\n",
    "\n",
    "    \n",
    "    act = int(actuals[i][1])\n",
    "    pred_label = np.argmax(prediction)\n",
    "    \n",
    "    if pred_label == act:\n",
    "        color = 'blue'\n",
    "    else:\n",
    "        color = 'red'\n",
    "    plt.xlabel(f\"Guess: {Ptable[str(pred_label)][0]} Actual: {Ptable[str(act)][0]}, {Ptable[str(act)][1]}\",color=color)\n",
    "    plt.xticks([])\n",
    "    plt.yticks([])\n",
    "    \n",
    "    barplt = plt.bar(range(len(prediction)),prediction,color='black')\n",
    "    plt.ylim(0,1)\n",
    "    \n",
    "    barplt[pred_label].set_color('red')\n",
    "    barplt[act].set_color('blue')"
   ]
  },
  {
   "cell_type": "code",
   "execution_count": null,
   "metadata": {
    "scrolled": true
   },
   "outputs": [],
   "source": [
    "plt.figure(figsize=(12,12))\n",
    "col = 3\n",
    "row = 3\n",
    "for i in range(col*row):\n",
    "    model.fit(train_in,train_out[:,1],epochs=50)\n",
    "    prob = tf.keras.Sequential([model,tf.keras.layers.Softmax()])\n",
    "    predictions = prob.predict(test_in)\n",
    "    plt.subplot(row,col,i+1)\n",
    "    plot_dat(1,predictions[1],test_out,Ptable)\n",
    "plt.show()"
   ]
  },
  {
   "cell_type": "code",
   "execution_count": null,
   "metadata": {},
   "outputs": [],
   "source": [
    "prob = tf.keras.Sequential([model,tf.keras.layers.Softmax()])\n",
    "predictions = prob.predict(test_in)\n",
    "plt.figure(figsize=(12,12))\n",
    "col = 3\n",
    "row = 3\n",
    "for i in range(col*row):\n",
    "    plt.subplot(row,col,i+1)\n",
    "    plot_dat(i,predictions[i],test_out,Ptable)\n",
    "plt.show()"
   ]
  },
  {
   "cell_type": "code",
   "execution_count": null,
   "metadata": {},
   "outputs": [],
   "source": [
    "'''The final layer of nodes... It represents bins in which the NN is guessing at the answer.\n",
    "Allowing for there to be three nodes at the end confuses this NN because we expect each node to correspond\n",
    "to a A, Z, and Q respectively when it really corresponds to a value of 1,2,3 for a single label (Like A or something).\n",
    "Do we need a convolution network to predict these three labels?\n",
    "The reason we can rely on the weights on each node to represent the A,Z,Q values is because... For starters the weights\n",
    "are normalized. Even if we normalized our output labels though, this issue we have here is a fundamental mismatch of how\n",
    "we expect the NN to work and how it's coded.'''\n",
    "\n",
    "'''I think one of the big challenges of this data is the mean vs the variance.\n",
    "The mean is around 190 and the variance is probably around 1 or two ish.\n",
    "What do we call data like this? And how to we better build our NN around this format?'''\n",
    "\n",
    "'''An idea, feed the answers of one network into the next, \n",
    "the next network becomes inputs + 1 and predicts the next label...'''"
   ]
  }
 ],
 "metadata": {
  "kernelspec": {
   "display_name": "Python 3 (ipykernel)",
   "language": "python",
   "name": "python3"
  },
  "language_info": {
   "codemirror_mode": {
    "name": "ipython",
    "version": 3
   },
   "file_extension": ".py",
   "mimetype": "text/x-python",
   "name": "python",
   "nbconvert_exporter": "python",
   "pygments_lexer": "ipython3",
   "version": "3.10.10"
  }
 },
 "nbformat": 4,
 "nbformat_minor": 4
}
